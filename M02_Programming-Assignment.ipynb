{
 "cells": [
  {
   "cell_type": "code",
   "execution_count": 1,
   "id": "a38bce24",
   "metadata": {},
   "outputs": [
    {
     "name": "stdout",
     "output_type": "stream",
     "text": [
      "[Things to do 4.1]\n",
      "Too low\n"
     ]
    }
   ],
   "source": [
    "print(\"[Things to do 4.1]\")\n",
    "secret = 3\n",
    "guess = 1\n",
    "if guess > secret:\n",
    "\tprint(\"Too high\")\n",
    "elif guess < secret:\n",
    "\tprint(\"Too low\")\n",
    "else:\n",
    "\tprint(\"Just right\")"
   ]
  },
  {
   "cell_type": "code",
   "execution_count": 2,
   "id": "3320c766",
   "metadata": {},
   "outputs": [
    {
     "name": "stdout",
     "output_type": "stream",
     "text": [
      "\n",
      "[Things to do 4.2]\n",
      "cherry\n"
     ]
    }
   ],
   "source": [
    "\n",
    "print()\n",
    "print(\"[Things to do 4.2]\")\n",
    "small = True\n",
    "green = False\n",
    "if small and green:\n",
    "    print(\"pea\")\n",
    "elif small and not green:\n",
    "    print(\"cherry\")\n",
    "elif not small and green:\n",
    "    print(\"watermelon\")\n",
    "elif not small and not green:\n",
    "    print(\"pumpkin\")"
   ]
  },
  {
   "cell_type": "code",
   "execution_count": 3,
   "id": "767b9f58",
   "metadata": {},
   "outputs": [
    {
     "name": "stdout",
     "output_type": "stream",
     "text": [
      "\n",
      "[Things to do 6.1]\n",
      "3\n",
      "2\n",
      "1\n",
      "0\n"
     ]
    }
   ],
   "source": [
    "print()\n",
    "print(\"[Things to do 6.1]\")\n",
    "list = [3, 2, 1, 0]\n",
    "for number in list:\n",
    "\tprint(number)   "
   ]
  },
  {
   "cell_type": "code",
   "execution_count": 4,
   "id": "2aa49141",
   "metadata": {},
   "outputs": [
    {
     "name": "stdout",
     "output_type": "stream",
     "text": [
      "\n",
      "[Things to do 6.2]\n",
      "too low\n",
      "too low\n",
      "too low\n",
      "too low\n",
      "too low\n",
      "too low\n",
      "found it!\n"
     ]
    }
   ],
   "source": [
    "print()\n",
    "print(\"[Things to do 6.2]\")\n",
    "guess_me = 7\n",
    "number = 1\n",
    "while number != guess_me:\n",
    "\tif number < guess_me:\n",
    "\t\tprint(\"too low\")\n",
    "\telse:\n",
    "\t\tprint(\"too high\")\n",
    "\tnumber += 1\n",
    "else:\n",
    "\tprint(\"found it!\")"
   ]
  },
  {
   "cell_type": "code",
   "execution_count": 5,
   "id": "07ce3648",
   "metadata": {},
   "outputs": [
    {
     "name": "stdout",
     "output_type": "stream",
     "text": [
      "\n",
      "[Things to do 6.3]\n",
      "too low\n",
      "too low\n",
      "too low\n",
      "too low\n",
      "too low\n",
      "found it!\n"
     ]
    }
   ],
   "source": [
    "print()\n",
    "print(\"[Things to do 6.3]\")\n",
    "guess_me = 5\n",
    "for number in range(10):\n",
    "\tif number == guess_me:\n",
    "\t\tprint(\"found it!\")\n",
    "\t\tbreak\n",
    "\telif number < guess_me:\n",
    "\t\tprint(\"too low\")\n",
    "\telse:\n",
    "\t\tprint(\"oops\")"
   ]
  },
  {
   "cell_type": "code",
   "execution_count": null,
   "id": "e69baf43",
   "metadata": {},
   "outputs": [],
   "source": []
  }
 ],
 "metadata": {
  "kernelspec": {
   "display_name": "Python 3 (ipykernel)",
   "language": "python",
   "name": "python3"
  },
  "language_info": {
   "codemirror_mode": {
    "name": "ipython",
    "version": 3
   },
   "file_extension": ".py",
   "mimetype": "text/x-python",
   "name": "python",
   "nbconvert_exporter": "python",
   "pygments_lexer": "ipython3",
   "version": "3.11.5"
  }
 },
 "nbformat": 4,
 "nbformat_minor": 5
}
