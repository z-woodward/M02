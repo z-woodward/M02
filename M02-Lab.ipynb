{
 "cells": [
  {
   "cell_type": "code",
   "execution_count": null,
   "id": "124fdb0e",
   "metadata": {},
   "outputs": [],
   "source": [
    "#Zachary Woodward\n",
    "#M02-Lab_DeansList.py\n",
    "#Simple python program that determines if a student has a GPA that is high enough to make the Dean's List or Honor Roll.\n",
    "\n",
    "exitname=\"ZZZ\"\n",
    "lastname=\"\"\n",
    "while lastname != exitname:\n",
    "    print(\"Please enter the student's last name [or ZZZ to exit program]: \")\n",
    "    lastname= input()\n",
    "    if lastname == exitname:\n",
    "        print(\"All done, goodbye!\")\n",
    "        break\n",
    "    print(\"Please enter the student's first name: \")\n",
    "    firstname= input()\n",
    "    print(\"Please enter the student's GPA: \")\n",
    "    GPA = float(input())\n",
    "    if GPA > 3.5:\n",
    "        print(firstname + \" \" + lastname + \" has made the Dean's List!\")\n",
    "        print()\n",
    "    elif GPA > 3.25:\n",
    "        print(firstname + \" \" + lastname + \" has made the Honor Roll.\")\n",
    "        print()\n",
    "    else:\n",
    "        print(firstname + \" \" + lastname + \" has not made the Dean's List or Honor Roll.\")\n",
    "        print()"
   ]
  }
 ],
 "metadata": {
  "kernelspec": {
   "display_name": "Python 3 (ipykernel)",
   "language": "python",
   "name": "python3"
  },
  "language_info": {
   "codemirror_mode": {
    "name": "ipython",
    "version": 3
   },
   "file_extension": ".py",
   "mimetype": "text/x-python",
   "name": "python",
   "nbconvert_exporter": "python",
   "pygments_lexer": "ipython3",
   "version": "3.11.5"
  }
 },
 "nbformat": 4,
 "nbformat_minor": 5
}
